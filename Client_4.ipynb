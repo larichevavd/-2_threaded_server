{
 "cells": [
  {
   "cell_type": "code",
   "execution_count": 2,
   "id": "200a1278",
   "metadata": {},
   "outputs": [
    {
     "name": "stdout",
     "output_type": "stream",
     "text": [
      "2022-11-05 22:29:02.972913 Создано соединение с сервером\n",
      "Добро пожаловать, user1\n",
      "Введите \"commands\", чтобы выбрать специальные возможности\n",
      "Enter message: gvhbjk\n",
      "2022-11-05 22:29:04.241171 Recieved:  GVHBJK\n",
      "Enter message: commands\n",
      "0: Отключение сервера\n",
      "1: Пауза\n",
      "2: Показ логов\n",
      "3: Очистка логов\n",
      "4: Очистка файла идентификации\n",
      "2\n",
      "2022-11-05 22:29:09.594848 Recieved:  INFO 2022-11-05 22:29:02,971: Создано подключение: ('127.0.0.1', 59453)\n",
      "INFO 2022-11-05 22:29:04,241: Получены данные от клиента: gvhbjk\n",
      "INFO 2022-11-05 22:29:04,241: Отправлены данные клиенту: GVHBJK\n",
      "\n",
      "Enter message: commands\n",
      "0: Отключение сервера\n",
      "1: Пауза\n",
      "2: Показ логов\n",
      "3: Очистка логов\n",
      "4: Очистка файла идентификации\n",
      "3\n",
      "2022-11-05 22:29:21.880810 Recieved:  Файл очищен\n",
      "Enter message: commands\n",
      "0: Отключение сервера\n",
      "1: Пауза\n",
      "2: Показ логов\n",
      "3: Очистка логов\n",
      "4: Очистка файла идентификации\n",
      "2\n",
      "2022-11-05 22:29:28.243423 Recieved:  No data\n",
      "Enter message: uegfsukr\n",
      "2022-11-05 22:29:31.866904 Recieved:  UEGFSUKR\n",
      "Enter message: commands\n",
      "0: Отключение сервера\n",
      "1: Пауза\n",
      "2: Показ логов\n",
      "3: Очистка логов\n",
      "4: Очистка файла идентификации\n",
      "2\n",
      "2022-11-05 22:29:40.709818 Recieved:  \u0000\u0000\u0000\u0000\u0000\u0000\u0000\u0000\u0000\u0000\u0000\u0000\u0000\u0000\u0000\u0000\u0000\u0000\u0000\u0000\u0000\u0000\u0000\u0000\u0000\u0000\u0000\u0000\u0000\u0000\u0000\u0000\u0000\u0000\u0000\u0000\u0000\u0000\u0000\u0000\u0000\u0000\u0000\u0000\u0000\u0000\u0000\u0000\u0000\u0000\u0000\u0000\u0000\u0000\u0000\u0000\u0000\u0000\u0000\u0000\u0000\u0000\u0000\u0000\u0000\u0000\u0000\u0000\u0000\u0000\u0000\u0000\u0000\u0000\u0000\u0000\u0000\u0000\u0000\u0000\u0000\u0000\u0000\u0000\u0000\u0000\u0000\u0000\u0000\u0000\u0000\u0000\u0000\u0000\u0000\u0000\u0000\u0000\u0000\u0000\u0000\u0000\u0000\u0000\u0000\u0000\u0000\u0000\u0000\u0000\u0000\u0000\u0000\u0000\u0000\u0000\u0000\u0000\u0000\u0000\u0000\u0000\u0000\u0000\u0000\u0000\u0000\u0000\u0000\u0000\u0000\u0000\u0000\u0000\u0000\u0000\u0000\u0000\u0000\u0000\u0000\u0000\u0000\u0000\u0000\u0000\u0000\u0000\u0000\u0000\u0000\u0000\u0000\u0000\u0000\u0000\u0000\u0000\u0000\u0000\u0000\u0000\u0000\u0000\u0000\u0000\u0000\u0000\u0000\u0000\u0000\u0000\u0000\u0000\u0000\u0000\u0000\u0000\u0000\u0000\u0000\u0000\u0000\u0000\u0000\u0000\u0000\u0000\u0000\u0000\u0000\u0000\u0000\u0000\u0000\u0000\u0000\u0000\u0000\u0000\u0000\u0000\u0000\u0000INFO 2022-11-05 22:29:31,866: Получены данные от клиента: uegfsukr\n",
      "INFO 2022-11-05 22:29:31,866: Отправлены данные клиенту: UEGFSUKR\n",
      "\n",
      "Enter message: commands\n",
      "0: Отключение сервера\n",
      "1: Пауза\n",
      "2: Показ логов\n",
      "3: Очистка логов\n",
      "4: Очистка файла идентификации\n",
      "1\n"
     ]
    }
   ],
   "source": [
    "import socket\n",
    "import datetime\n",
    "sock = socket.socket()\n",
    "sock.connect(('localhost', 9091))\n",
    "address = sock.getsockname()[0]\n",
    "sock.send(address.encode('utf-8'))\n",
    "print(f'{datetime.datetime.now()} Создано соединение с сервером')\n",
    "data1 = sock.recv(1024).decode('utf-8')\n",
    "if data1 == 'None':\n",
    "    name = input('Введите свое имя: ')\n",
    "    sock.send(name.encode('utf-8'))\n",
    "else:\n",
    "    print(f'Добро пожаловать, {data1}')\n",
    "print(f'Введите \"commands\", чтобы выбрать специальные возможности')\n",
    "while True:\n",
    "    mes = input('Enter message: ')\n",
    "    sock.send(mes.encode('utf-8'))\n",
    "    if mes == 'commands':\n",
    "        com = input(\"0: Отключение сервера\\n1: Пауза\\n2: Показ логов\\n3: Очистка логов\\n4: Очистка файла идентификации\\n\")\n",
    "        if com == '1':\n",
    "            break\n",
    "        sock.send(com.encode('utf-8'))\n",
    "        if com == '0':\n",
    "            break\n",
    "    data = sock.recv(1024).decode('utf-8')\n",
    "    print(f'{datetime.datetime.now()} Recieved: ', data)\n",
    "sock.close()"
   ]
  },
  {
   "cell_type": "code",
   "execution_count": null,
   "id": "4f5b3763",
   "metadata": {},
   "outputs": [],
   "source": []
  }
 ],
 "metadata": {
  "kernelspec": {
   "display_name": "Python 3 (ipykernel)",
   "language": "python",
   "name": "python3"
  },
  "language_info": {
   "codemirror_mode": {
    "name": "ipython",
    "version": 3
   },
   "file_extension": ".py",
   "mimetype": "text/x-python",
   "name": "python",
   "nbconvert_exporter": "python",
   "pygments_lexer": "ipython3",
   "version": "3.9.12"
  }
 },
 "nbformat": 4,
 "nbformat_minor": 5
}
